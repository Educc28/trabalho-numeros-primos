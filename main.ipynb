{
 "cells": [
  {
   "cell_type": "markdown",
   "id": "f9577227",
   "metadata": {},
   "source": [
    "# Experimentos"
   ]
  },
  {
   "cell_type": "code",
   "execution_count": 32,
   "id": "3117bb82",
   "metadata": {},
   "outputs": [],
   "source": [
    "import time\n",
    "import pandas as pd\n",
    "from lcg import LCG\n",
    "from xorshift import Xorshift64\n",
    "from primality_tests import fermat_primality_test, miller_rabin"
   ]
  },
  {
   "cell_type": "code",
   "execution_count": 33,
   "id": "0b3e7ebc",
   "metadata": {},
   "outputs": [],
   "source": [
    "def generate(generator, num_bits):\n",
    "    \"\"\"\n",
    "    Usa um gerador (LCG ou Xorshift) para construir um número pseudo-aleatório\n",
    "    com um tamanho específico de bits.\n",
    "    \"\"\"\n",
    "    if num_bits == 0:\n",
    "        return 0\n",
    "\n",
    "    large_number = 0\n",
    "    created_bits = 0\n",
    "    bits_per_call = generator.m.bit_length() - 1 if hasattr(generator, 'm') else 64\n",
    "\n",
    "    # Gera o número pseudo-aleatório\n",
    "    while created_bits < num_bits:\n",
    "        random_number = generator.next()\n",
    "        large_number = (large_number << bits_per_call) + random_number\n",
    "        created_bits += bits_per_call\n",
    "    \n",
    "    excess_bits = created_bits - num_bits\n",
    "    \n",
    "    # Garante que o número gerado tenha o tamanho correto\n",
    "    if excess_bits > 0:\n",
    "        large_number = large_number >> excess_bits\n",
    "    \n",
    "    if num_bits > 0:\n",
    "        # Garante o bit mais significativo tenha o comprimento correto.\n",
    "        # (1 << (num_bits - 1)) cria um número com apenas o n-ésimo bit ligado.\n",
    "        # A operação OU (|) liga esse bit, garantindo o tamanho.\n",
    "        large_number |= (1 << (num_bits - 1))\n",
    "        \n",
    "        # Altera o bit menos significativo para garantir que o número seja ímpar.\n",
    "        large_number |= 1\n",
    "        \n",
    "    return large_number"
   ]
  },
  {
   "cell_type": "markdown",
   "id": "800b4578",
   "metadata": {},
   "source": [
    "## Linear Congruent Generator (LCG)"
   ]
  },
  {
   "cell_type": "code",
   "execution_count": 34,
   "id": "cab8d674",
   "metadata": {},
   "outputs": [
    {
     "name": "stdout",
     "output_type": "stream",
     "text": [
      "--- Experimento com LCG ---\n",
      "Gerando número de 256 bits com LCG (Seed: 1759189509)\n",
      "\n",
      "Tempo de execução: 0.0448 ms\n",
      "Número gerado: 68828553762044946295207278973791987467195977602000947349791384284349998611737\n",
      "\n",
      "Numero de bits real: 256\n"
     ]
    }
   ],
   "source": [
    "print(\"--- Experimento com LCG ---\")\n",
    "seed_lcg = int(time.time())\n",
    "lcg_gen = LCG(seed=seed_lcg, multiplier=1103515245, increment=12345, modulus=2**31)\n",
    "\n",
    "size_bits = 256\n",
    "print(f\"Gerando número de {size_bits} bits com LCG (Seed: {seed_lcg})\")\n",
    "\n",
    "start_time = time.perf_counter()\n",
    "final_number_lcg = generate(lcg_gen, size_bits)\n",
    "end_time = time.perf_counter()\n",
    "\n",
    "time_ms_lcg = (end_time - start_time) * 1000\n",
    "\n",
    "print(f\"\\nTempo de execução: {time_ms_lcg:.4f} ms\")\n",
    "print(f\"Número gerado: {final_number_lcg}\") \n",
    "print(f\"\\nNumero de bits real: {final_number_lcg.bit_length()}\")"
   ]
  },
  {
   "cell_type": "markdown",
   "id": "dedda4a8",
   "metadata": {},
   "source": [
    "## Xorshift"
   ]
  },
  {
   "cell_type": "code",
   "execution_count": 35,
   "id": "11c5a2c7",
   "metadata": {},
   "outputs": [
    {
     "name": "stdout",
     "output_type": "stream",
     "text": [
      "\n",
      "--- Experimento com Xorshift ---\n",
      "Gerando número de 256 bits com Xorshift (Seed: 1759189509)\n",
      "\n",
      "Tempo de execução: 0.0544 ms\n",
      "Número gerado: 69660527433212879918690718774540373077497181736134586758915026658593443172115\n",
      "\n",
      "Numero de bits real: 256\n"
     ]
    }
   ],
   "source": [
    "print(\"\\n--- Experimento com Xorshift ---\")\n",
    "seed_xs = int(time.time())\n",
    "xorshift_gen = Xorshift64(seed=seed_xs)\n",
    "\n",
    "size_bits = 256\n",
    "print(f\"Gerando número de {size_bits} bits com Xorshift (Seed: {seed_xs})\")\n",
    "\n",
    "start_time = time.perf_counter()\n",
    "final_number_xs = generate(xorshift_gen, size_bits)\n",
    "end_time = time.perf_counter()\n",
    "\n",
    "time_ms_xs = (end_time - start_time) * 1000\n",
    "\n",
    "print(f\"\\nTempo de execução: {time_ms_xs:.4f} ms\")\n",
    "print(f\"Número gerado: {final_number_xs}\") \n",
    "print(f\"\\nNumero de bits real: {final_number_xs.bit_length()}\")"
   ]
  },
  {
   "cell_type": "markdown",
   "id": "7c3b96bf",
   "metadata": {},
   "source": [
    "## Geração da Tabela"
   ]
  },
  {
   "cell_type": "code",
   "execution_count": null,
   "id": "90d2da24",
   "metadata": {},
   "outputs": [
    {
     "name": "stdout",
     "output_type": "stream",
     "text": [
      "--- Iniciando o Experimento de Geração de Números ---\n",
      "Randomizando: 40 bits...\n",
      "Randomizando: 56 bits...\n",
      "Randomizando: 80 bits...\n",
      "Randomizando: 128 bits...\n",
      "Randomizando: 168 bits...\n",
      "Randomizando: 224 bits...\n",
      "Randomizando: 256 bits...\n",
      "Randomizando: 512 bits...\n",
      "Randomizando: 1024 bits...\n",
      "Randomizando: 2048 bits...\n",
      "Randomizando: 4096 bits...\n",
      "\n",
      "--- Experimento Concluído ---\n",
      "\n",
      " Tabela de Desempenho dos Geradores\n",
      "----------------------------------------\n",
      "   Algoritmo  Tamanho (bits)  Tempo (ms)\n",
      "0        LCG              40      0.0085\n",
      "1   Xorshift              40      0.0033\n",
      "2        LCG              56      0.0032\n",
      "3   Xorshift              56      0.0022\n",
      "4        LCG              80      0.0028\n",
      "5   Xorshift              80      0.0049\n",
      "6        LCG             128      0.0038\n",
      "7   Xorshift             128      0.0021\n",
      "8        LCG             168      0.0035\n",
      "9   Xorshift             168      0.0030\n",
      "10       LCG             224      0.0055\n",
      "11  Xorshift             224      0.0036\n",
      "12       LCG             256      0.0061\n",
      "13  Xorshift             256      0.0039\n",
      "14       LCG             512      0.0103\n",
      "15  Xorshift             512      0.0067\n",
      "16       LCG            1024      0.0197\n",
      "17  Xorshift            1024      0.0115\n",
      "18       LCG            2048      0.0450\n",
      "19  Xorshift            2048      0.0259\n",
      "20       LCG            4096      0.1439\n",
      "21  Xorshift            4096      0.0548\n"
     ]
    }
   ],
   "source": [
    "tamanhos_bits = [40, 56, 80, 128, 168, 224, 256, 512, 1024, 2048, 4096]\n",
    "resultados = [] # Lista para guardar os resultados de cada execução\n",
    "\n",
    "print(\"--- Iniciando o Experimento de Geração de Números ---\")\n",
    "\n",
    "for size in tamanhos_bits:\n",
    "    print(f\"Randomizando: {size} bits...\")\n",
    "    \n",
    "    # Teste para LCG\n",
    "    seed_lcg = int(time.time())\n",
    "    lcg_gen = LCG(seed=seed_lcg, multiplier=1103515245, increment=12345, modulus=2**31)\n",
    "    \n",
    "    start_time_lcg = time.perf_counter()\n",
    "    generate(lcg_gen, size)\n",
    "    end_time_lcg = time.perf_counter()\n",
    "    time_ms_lcg = (end_time_lcg - start_time_lcg) * 1000\n",
    "    \n",
    "    resultados.append({\"Algoritmo\": \"LCG\", \"Tamanho (bits)\": size, \"Tempo (ms)\": time_ms_lcg})\n",
    "    \n",
    "    # Teste para Xorshift\n",
    "    seed_xs = int(time.time())\n",
    "    xorshift_gen = Xorshift64(seed=seed_xs)\n",
    "    \n",
    "    start_time_xs = time.perf_counter()\n",
    "    generate(xorshift_gen, size)\n",
    "    end_time_xs = time.perf_counter()\n",
    "    time_ms_xs = (end_time_xs - start_time_xs) * 1000\n",
    "    \n",
    "    resultados.append({\"Algoritmo\": \"Xorshift\", \"Tamanho (bits)\": size, \"Tempo (ms)\": time_ms_xs})\n",
    "\n",
    "print(\"\\n--- Experimento Concluído ---\")\n",
    "\n",
    "# Converte a lista de resultados para um DataFrame do pandas facilitando a visualização\n",
    "df_resultados = pd.DataFrame(resultados)\n",
    "\n",
    "# Exibe a tabela de resultados\n",
    "print(\"\\n Tabela de Desempenho dos Geradores\")\n",
    "print(\"-\" * 40)\n",
    "print(df_resultados.to_string())"
   ]
  },
  {
   "cell_type": "markdown",
   "id": "9da83a11",
   "metadata": {},
   "source": [
    "# Testes de Primalidade"
   ]
  },
  {
   "cell_type": "markdown",
   "id": "0ddd6a22",
   "metadata": {},
   "source": [
    "### Miller Rabin (MR)"
   ]
  },
  {
   "cell_type": "code",
   "execution_count": 37,
   "id": "0435d016",
   "metadata": {},
   "outputs": [
    {
     "name": "stdout",
     "output_type": "stream",
     "text": [
      "--- Iniciando Busca de Primos com Miller-Rabin ---\n",
      "Buscando um primo de 40 bits...\n",
      "Buscando um primo de 56 bits...\n",
      "Buscando um primo de 80 bits...\n",
      "Buscando um primo de 128 bits...\n",
      "Buscando um primo de 168 bits...\n",
      "Buscando um primo de 224 bits...\n",
      "Buscando um primo de 256 bits...\n",
      "Buscando um primo de 512 bits...\n",
      "Buscando um primo de 1024 bits...\n",
      "Buscando um primo de 2048 bits...\n",
      "Buscando um primo de 4096 bits...\n",
      "\n",
      "--- Concluído (Miller-Rabin) ---\n",
      "\n",
      " Tabela de Resultados: Busca com Miller-Rabin\n",
      "----------------------------------------\n",
      "    Tamanho (bits)  Tempo para encontrar (ms)                                                                                                                                                                                                                                                                                                                                                                                                                                                                                                                                                                                                                                                                                                                                                                                                                                                                                                                                                                                                                                                                                                                                                                                                                                                                   Primo Encontrado\n",
      "0               40                     0.4648                                                                                                                                                                                                                                                                                                                                                                                                                                                                                                                                                                                                                                                                                                                                                                                                                                                                                                                                                                                                                                                                                                                                                                                                                                                                       591050819563\n",
      "1               56                     0.8888                                                                                                                                                                                                                                                                                                                                                                                                                                                                                                                                                                                                                                                                                                                                                                                                                                                                                                                                                                                                                                                                                                                                                                                                                                                                  55479323240877391\n",
      "2               80                     1.2552                                                                                                                                                                                                                                                                                                                                                                                                                                                                                                                                                                                                                                                                                                                                                                                                                                                                                                                                                                                                                                                                                                                                                                                                                                                           810918897242083928986169\n",
      "3              128                     1.7431                                                                                                                                                                                                                                                                                                                                                                                                                                                                                                                                                                                                                                                                                                                                                                                                                                                                                                                                                                                                                                                                                                                                                                                                                                            278823644507275558279143741343669580477\n",
      "4              168                     7.3529                                                                                                                                                                                                                                                                                                                                                                                                                                                                                                                                                                                                                                                                                                                                                                                                                                                                                                                                                                                                                                                                                                                                                                                                                                265184504459103894979566368064591289607427200473391\n",
      "5              224                     4.0737                                                                                                                                                                                                                                                                                                                                                                                                                                                                                                                                                                                                                                                                                                                                                                                                                                                                                                                                                                                                                                                                                                                                                                                                               25746022758031947336368042443188313995839495741721231348949412823481\n",
      "6              256                    17.3713                                                                                                                                                                                                                                                                                                                                                                                                                                                                                                                                                                                                                                                                                                                                                                                                                                                                                                                                                                                                                                                                                                                                                                                                      92378377391444136692281885530915152403878203008894535870348999788700916327681\n",
      "7              512                    81.7731                                                                                                                                                                                                                                                                                                                                                                                                                                                                                                                                                                                                                                                                                                                                                                                                                                                                                                                                                                                                                                                                                                                         9228186823146692307442538329099854727608787717389897815138863789530263075620625252707830237526383544768640476104245512832854868362551258458056874860523033\n",
      "8             1024                  2136.8301                                                                                                                                                                                                                                                                                                                                                                                                                                                                                                                                                                                                                                                                                                                                                                                                                                                                                                                                                              131156528486569034814150027366887557264016757011165207952425288679373006915009339254163236561490906679581955370346122953918113722068198297262427114068001029453668001876923721946605237501985397362294616921942446959858147902904531958008419191675532601440373739529680457802271028126614365664404631290652250673059\n",
      "9             2048                  3478.7616                                                                                                                                                                                                                                                                                                                                                                                                                                                                                                                                                                                                                                          28056073698604367844472160416460045041619877542841325205457692526629291077219016166475400887951792876552260344464325392090749211490627408660169291247254186454567555233179139566669408694618444984439901431831590601686271390134110577943243481662958223997280336806850835956920563906103753945975959574930628969703253187310837256107203217034665875118812103133683725352805380721409637404593162619502861807654440962032853620969292825588903209586928031162002337718908476990023826898407231548603634233092046135174507155743895904911648802523439981430890056400618890466592637009424199481463261728776143071427447042915543215606447\n",
      "10            4096                229011.3651  860327010212501902602695464969659731891517983540946702752517476948082633779687856593920068254504693822616770023603187946087809601341083584935429837999395189701045121991022427504994619886463171637658445231957302257117356071438130574220678858523269431319875463551620532101059182989912803507443556097181936567373781594667687815636848313212792885217457493889966757342958506516422273442610186833857876654836073173591974579321030801178124566889578389871631300848490267240814345269405113306911910555768810991144587028049026038178917905786207905098077936043151940229408950117632955680582776298435493552506557852020065916743440894784197457765977588161332080337732873243757996178244842839423102079772908483580873262454447779249363359639885147546205320530205199529306465848484638610317605305991611082013708003985380976387608854697749522225336027673981479646447505470172779713943197174403321461920195575873698783825160429587930562600692248042755685166261726929215445508494024697206382425361089980221737195742918714022356535103442452969101947767178912695849861665904149435563862816104665412525655779357289406135594141764542979512180331980132682946957112522629884789285523064506001241031997074067912681265629914118477683918291797142620766390959467\n"
     ]
    }
   ],
   "source": [
    "bit_size = [40, 56, 80, 128, 168, 224, 256, 512, 1024, 2048, 4096]\n",
    "results_mr = []\n",
    "\n",
    "print(\"--- Iniciando Busca de Primos com Miller-Rabin ---\")\n",
    "\n",
    "for size in bit_size:\n",
    "    print(f\"Buscando um primo de {size} bits...\")\n",
    "    generator_mr = Xorshift64(seed=int(time.time()))\n",
    "    start_time = time.perf_counter()\n",
    "    \n",
    "    while True:\n",
    "        candidate = generate(generator_mr, size)\n",
    "        if miller_rabin(candidate):\n",
    "            prime_found = candidate\n",
    "            break # Primo foi encontrado\n",
    "            \n",
    "    end_time = time.perf_counter()\n",
    "    time_ms = (end_time - start_time) * 1000\n",
    "    \n",
    "    # Adiciona o resultado\n",
    "    results_mr.append({\n",
    "        \"Tamanho (bits)\": size,\n",
    "        \"Tempo para encontrar (ms)\": time_ms,\n",
    "        \"Primo Encontrado\": prime_found\n",
    "    })\n",
    "\n",
    "print(\"\\n--- Concluído (Miller-Rabin) ---\")\n",
    "\n",
    "# Apresenta a tabela\n",
    "df_mr = pd.DataFrame(results_mr)\n",
    "\n",
    "# Configuração para garantir que os números grandes sejam exibidos por completo\n",
    "pd.set_option('display.max_colwidth', None)\n",
    "\n",
    "print(\"\\n Tabela de Resultados: Busca com Miller-Rabin\")\n",
    "print(\"-\" * 40)\n",
    "print(df_mr.to_string())"
   ]
  },
  {
   "cell_type": "markdown",
   "id": "bbf4884f",
   "metadata": {},
   "source": [
    "### Fermat"
   ]
  },
  {
   "cell_type": "code",
   "execution_count": 38,
   "id": "44e7d10d",
   "metadata": {},
   "outputs": [
    {
     "name": "stdout",
     "output_type": "stream",
     "text": [
      "--- Iniciando Busca de Primos com Teste de Fermat ---\n",
      "Buscando um primo de 40 bits...\n",
      "Buscando um primo de 56 bits...\n",
      "Buscando um primo de 80 bits...\n",
      "Buscando um primo de 128 bits...\n",
      "Buscando um primo de 168 bits...\n",
      "Buscando um primo de 224 bits...\n",
      "Buscando um primo de 256 bits...\n",
      "Buscando um primo de 512 bits...\n",
      "Buscando um primo de 1024 bits...\n",
      "Buscando um primo de 2048 bits...\n",
      "Buscando um primo de 4096 bits...\n",
      "\n",
      "--- Concluído (Fermat) ---\n",
      "\n",
      " Tabela de Resultados: Busca com Teste de Fermat\n",
      "----------------------------------------\n",
      "    Tamanho (bits)  Tempo para encontrar (ms)                                                                                                                                                                                                                                                                                                                                                                                                                                                                                                                                                                                                                                                                                                                                                                                                                                                                                                                                                                                                                                                                                                                                                                                                                                                                    Primo Encontrado\n",
      "0               40                     0.4419                                                                                                                                                                                                                                                                                                                                                                                                                                                                                                                                                                                                                                                                                                                                                                                                                                                                                                                                                                                                                                                                                                                                                                                                                                                                        677076989053\n",
      "1               56                     0.7175                                                                                                                                                                                                                                                                                                                                                                                                                                                                                                                                                                                                                                                                                                                                                                                                                                                                                                                                                                                                                                                                                                                                                                                                                                                                   58585354784172347\n",
      "2               80                     1.5457                                                                                                                                                                                                                                                                                                                                                                                                                                                                                                                                                                                                                                                                                                                                                                                                                                                                                                                                                                                                                                                                                                                                                                                                                                                            694186355938722023187541\n",
      "3              128                     2.4927                                                                                                                                                                                                                                                                                                                                                                                                                                                                                                                                                                                                                                                                                                                                                                                                                                                                                                                                                                                                                                                                                                                                                                                                                                             172458698731324856875105780149105416231\n",
      "4              168                     3.2346                                                                                                                                                                                                                                                                                                                                                                                                                                                                                                                                                                                                                                                                                                                                                                                                                                                                                                                                                                                                                                                                                                                                                                                                                                 275462179473952465029698266605519443317592877868189\n",
      "5              224                    14.9093                                                                                                                                                                                                                                                                                                                                                                                                                                                                                                                                                                                                                                                                                                                                                                                                                                                                                                                                                                                                                                                                                                                                                                                                                16727539643801018797903960433118538718411991933852306847874242147453\n",
      "6              256                    17.3531                                                                                                                                                                                                                                                                                                                                                                                                                                                                                                                                                                                                                                                                                                                                                                                                                                                                                                                                                                                                                                                                                                                                                                                                       75961285143051453354083624091641293346784829326733529461706758233261256414219\n",
      "7              512                    44.7353                                                                                                                                                                                                                                                                                                                                                                                                                                                                                                                                                                                                                                                                                                                                                                                                                                                                                                                                                                                                                                                                                                                         10008216686054736564428650209989684103614198973225107306522339757181631245104628666906190973180782372920060744859607340797801376826782704414551866692040837\n",
      "8             1024                  1073.6815                                                                                                                                                                                                                                                                                                                                                                                                                                                                                                                                                                                                                                                                                                                                                                                                                                                                                                                                                               150328265977434301813594329882226013657962951485788710049138955161537884406320033243208447171471104984105627893808667430806909257716301241913273225868381612800364885231690038112521474079755433130108614394912037921187839902816274075576599622156738403703645178671608842477313232384948799622308663107869508219329\n",
      "9             2048                 11823.2583                                                                                                                                                                                                                                                                                                                                                                                                                                                                                                                                                                                                                                           23591887276696631662780911094967736781588612522066928948588934588746740641521488165170230533294579255248944969591183085139216587277791179421773748195900323819848788668419402841432095840250991049934471857582977339807692077133395403149193135745731634261827947981543877920958034526731775827087395353513497300356722976707311133036548091657282491492239587178238380741651664242905638753340571967323171580277315911087623496119243798146111275705041656104382029569723201255506251686447981967822886971062133319078295288853119296068543978576455807878534855530536414994002671659207417982658311290876507670278352526772296884235081\n",
      "10            4096                380155.7338  1016044689184063268532464450139801357532596059316348330817951600822673079375900785611378248830118883946216054814151822971394321512377688741144160658058391871705901326320106989215518786980330125989982901761826132875954002672789315123375228523187874718255415173607900616092765832201913338986192950559264954237750238051574644313466996821217184446966595041703763534950314783696878662386009498567289280338767572902722047317016293807088516197294841177995687256269396734836872882624221043835828510432929110671098894918573830702599461797927278313903523829423811924661788862251856704371462510920282591997221453609711266736009300481543332021105714906740327304475113896434726132150112743253994768585185203994311094830647636381354334909890514768303428293385619330544826616010743880691961389056721714945102852983285950099588473931709459710341011512549142571335543575224824467124916796961939572030211226142122829823177707883648837159582556163264215965789727199813978708925033521652364483384371279143413162447218136850041475524104897873501698545249157862961038251747150573771032101531124644879226164779729517499745428043388004618737675727367130759319707751161778618226310355080533803493607062785427273755443962114400047184474895940359422389559258481\n"
     ]
    }
   ],
   "source": [
    "bit_size = [40, 56, 80, 128, 168, 224, 256, 512, 1024, 2048, 4096]\n",
    "results_ft = []\n",
    "\n",
    "print(\"--- Iniciando Busca de Primos com Teste de Fermat ---\")\n",
    "\n",
    "for size in bit_size:\n",
    "    print(f\"Buscando um primo de {size} bits...\")\n",
    "    generator_ft = Xorshift64(seed=int(time.time()))\n",
    "    start_time = time.perf_counter()\n",
    "    \n",
    "    while True:\n",
    "        candidate = generate(generator_ft, size)\n",
    "        if fermat_primality_test(candidate):\n",
    "            prime_found = candidate\n",
    "            break # Primo foi encontrado\n",
    "            \n",
    "    end_time = time.perf_counter()\n",
    "    time_ms = (end_time - start_time) * 1000\n",
    "    \n",
    "    # Adiciona o resultado\n",
    "    results_ft.append({\n",
    "        \"Tamanho (bits)\": size,\n",
    "        \"Tempo para encontrar (ms)\": time_ms,\n",
    "        \"Primo Encontrado\": prime_found\n",
    "    })\n",
    "\n",
    "print(\"\\n--- Concluído (Fermat) ---\")\n",
    "\n",
    "# Apresenta a tabela\n",
    "df_ft = pd.DataFrame(results_ft)\n",
    "\n",
    "# Configuração para garantir que os números grandes sejam exibidos por completo\n",
    "pd.set_option('display.max_colwidth', None)\n",
    "\n",
    "print(\"\\n Tabela de Resultados: Busca com Teste de Fermat\")\n",
    "print(\"-\" * 40)\n",
    "print(df_ft.to_string())"
   ]
  }
 ],
 "metadata": {
  "kernelspec": {
   "display_name": "venv",
   "language": "python",
   "name": "python3"
  },
  "language_info": {
   "codemirror_mode": {
    "name": "ipython",
    "version": 3
   },
   "file_extension": ".py",
   "mimetype": "text/x-python",
   "name": "python",
   "nbconvert_exporter": "python",
   "pygments_lexer": "ipython3",
   "version": "3.11.9"
  }
 },
 "nbformat": 4,
 "nbformat_minor": 5
}
